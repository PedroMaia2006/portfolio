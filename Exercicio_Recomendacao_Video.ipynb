{
 "cells": [
  {
   "cell_type": "markdown",
   "metadata": {},
   "source": [
    "<img src=\"imgs/dh_logo_2.png\" align=\"right\" width=\"50%\">"
   ]
  },
  {
   "cell_type": "markdown",
   "metadata": {},
   "source": [
    "# Recomendação de Vídeos\n",
    "\n",
    "[`Caracol TV`](https://www.caracoltv.com/) é líder no mercado de portais de notícias, esportes e entretenimento. São dezenas de milhões de acessos por dia em nossos portais, tendo cerca de 15 mil acessos por dia.\n",
    "\n",
    "O objetivo do time de Personalização é melhorar a experiência dos usuários, fazendo com que eles encontrem o conteúdo que mais lhes agradem no site. \n",
    "Com isso, queremos aumentar o tempo de permanência e fidelidade dos usuários.\n",
    "\n",
    "#### O problema\n",
    "\n",
    "O desafio proposto consiste na recomendação de vídeos. Como fonte de dados, lhe fornecemos o\n",
    "histórico de visualização de vídeos de cada usuário e os metadados dos vídeos\n",
    "do acervo.\n",
    "\n",
    "Existem dois arquivos com as informações necessárias:\n",
    "\n",
    "- `videos.csv`: Contém uma linha para cada vídeo, com as seguintes colunas:\n",
    "  - `video_id`: Id do vídeo\n",
    "  - `programa_id`: Id do programa\n",
    "  - `programa_titulo`: Título do programa\n",
    "  - `programa_descricao`: Descrição do programa\n",
    "  - `categoria`: Categoria do vídeo\n",
    "  - `titulo`: Título do vídeo\n",
    "  - `descricao`: Descrição do vídeo\n",
    "  - `tags`: Tags do vídeo, separadas por \";\"\n",
    "\n",
    "- `video_views.csv`: Contém uma linha para cada par usuário/vídeo, com as seguintes colunas:\n",
    "  - `usuario_id`: Id do usuário\n",
    "  - `video_id`: Id do vídeo\n",
    "  - `porcentagem_vista`: Porcentagem do vídeo vista pelo usuário. Valor é cumulativo.\n",
    "  Pode ser maior que 1 se usuário viu o vídeo mais de uma vez.\n",
    "  - `ultima_visualizacao`: Timestamp da última vez que o usuário viu o vídeo."
   ]
  },
  {
   "cell_type": "code",
   "execution_count": 6,
   "metadata": {},
   "outputs": [],
   "source": [
    "import matplotlib.pyplot as plt\n",
    "import pandas as pd"
   ]
  },
  {
   "cell_type": "code",
   "execution_count": 7,
   "metadata": {},
   "outputs": [],
   "source": [
    "df_views = pd.read_csv(\n",
    "    r'C:\\Users\\LENOVO\\Downloads\\video_views (1)\\video_views.csv',\n",
    "    parse_dates=[\"ultima_visualizacao\"],\n",
    "    date_parser=lambda x: pd.to_datetime(x, unit=\"ms\")\n",
    ")"
   ]
  },
  {
   "cell_type": "code",
   "execution_count": 8,
   "metadata": {
    "scrolled": true
   },
   "outputs": [
    {
     "data": {
      "text/html": [
       "<div>\n",
       "<style scoped>\n",
       "    .dataframe tbody tr th:only-of-type {\n",
       "        vertical-align: middle;\n",
       "    }\n",
       "\n",
       "    .dataframe tbody tr th {\n",
       "        vertical-align: top;\n",
       "    }\n",
       "\n",
       "    .dataframe thead th {\n",
       "        text-align: right;\n",
       "    }\n",
       "</style>\n",
       "<table border=\"1\" class=\"dataframe\">\n",
       "  <thead>\n",
       "    <tr style=\"text-align: right;\">\n",
       "      <th></th>\n",
       "      <th>usuario_id</th>\n",
       "      <th>video_id</th>\n",
       "      <th>porcentagem_vista</th>\n",
       "      <th>ultima_visualizacao</th>\n",
       "    </tr>\n",
       "  </thead>\n",
       "  <tbody>\n",
       "    <tr>\n",
       "      <td>0</td>\n",
       "      <td>f3c18ff17981963f</td>\n",
       "      <td>efac34dbae7d546f</td>\n",
       "      <td>1.866467</td>\n",
       "      <td>2014-12-05 16:24:02.643</td>\n",
       "    </tr>\n",
       "    <tr>\n",
       "      <td>1</td>\n",
       "      <td>ad7f9222659e9dbd</td>\n",
       "      <td>efac34dbae7d546f</td>\n",
       "      <td>0.799727</td>\n",
       "      <td>2014-12-04 12:27:39.807</td>\n",
       "    </tr>\n",
       "    <tr>\n",
       "      <td>2</td>\n",
       "      <td>3aca5ff7d0ccb963</td>\n",
       "      <td>efac34dbae7d546f</td>\n",
       "      <td>1.820864</td>\n",
       "      <td>2014-12-05 16:23:30.557</td>\n",
       "    </tr>\n",
       "    <tr>\n",
       "      <td>3</td>\n",
       "      <td>05055a341480a04f</td>\n",
       "      <td>efac34dbae7d546f</td>\n",
       "      <td>1.769413</td>\n",
       "      <td>2014-11-26 21:38:39.024</td>\n",
       "    </tr>\n",
       "    <tr>\n",
       "      <td>4</td>\n",
       "      <td>a2e8930c16ad6457</td>\n",
       "      <td>41a08a67dbd30f26</td>\n",
       "      <td>1.012109</td>\n",
       "      <td>2015-01-01 21:57:42.221</td>\n",
       "    </tr>\n",
       "  </tbody>\n",
       "</table>\n",
       "</div>"
      ],
      "text/plain": [
       "         usuario_id          video_id  porcentagem_vista  \\\n",
       "0  f3c18ff17981963f  efac34dbae7d546f           1.866467   \n",
       "1  ad7f9222659e9dbd  efac34dbae7d546f           0.799727   \n",
       "2  3aca5ff7d0ccb963  efac34dbae7d546f           1.820864   \n",
       "3  05055a341480a04f  efac34dbae7d546f           1.769413   \n",
       "4  a2e8930c16ad6457  41a08a67dbd30f26           1.012109   \n",
       "\n",
       "      ultima_visualizacao  \n",
       "0 2014-12-05 16:24:02.643  \n",
       "1 2014-12-04 12:27:39.807  \n",
       "2 2014-12-05 16:23:30.557  \n",
       "3 2014-11-26 21:38:39.024  \n",
       "4 2015-01-01 21:57:42.221  "
      ]
     },
     "execution_count": 8,
     "metadata": {},
     "output_type": "execute_result"
    }
   ],
   "source": [
    "df_views.head()"
   ]
  },
  {
   "cell_type": "markdown",
   "metadata": {},
   "source": [
    "# Exploração"
   ]
  },
  {
   "cell_type": "code",
   "execution_count": 9,
   "metadata": {},
   "outputs": [],
   "source": [
    "def plot_views(df):\n",
    "    grouped = df.groupby(\"ultima_visualizacao\")\n",
    "    s = grouped[\"usuario_id\"].count().resample(\"D\").sum()\n",
    "    s.plot()\n",
    "    plt.ylabel(\"Visualizações por dia\")"
   ]
  },
  {
   "cell_type": "code",
   "execution_count": 10,
   "metadata": {},
   "outputs": [
    {
     "data": {
      "image/png": "[encoded data removed]",
      "text/plain": [
       "<Figure size 432x288 with 1 Axes>"
      ]
     },
     "metadata": {
      "needs_background": "light"
     },
     "output_type": "display_data"
    }
   ],
   "source": [
    "plot_views(df_views)"
   ]
  },
  {
   "cell_type": "markdown",
   "metadata": {},
   "source": [
    "# Filtro na porcentagem de vistas"
   ]
  },
  {
   "cell_type": "code",
   "execution_count": 11,
   "metadata": {},
   "outputs": [
    {
     "data": {
      "text/plain": [
       "count    759748.000000\n",
       "mean          3.719851\n",
       "std        2191.160438\n",
       "min     -993339.101422\n",
       "25%           0.190576\n",
       "50%           0.980702\n",
       "75%           1.452308\n",
       "max      975493.667305\n",
       "Name: porcentagem_vista, dtype: float64"
      ]
     },
     "execution_count": 11,
     "metadata": {},
     "output_type": "execute_result"
    }
   ],
   "source": [
    "df_views.porcentagem_vista.describe()"
   ]
  },
  {
   "cell_type": "code",
   "execution_count": 7,
   "metadata": {},
   "outputs": [],
   "source": [
    "mask = df_views.porcentagem_vista.between(0, 5)\n",
    "\n",
    "df_views_clean = df_views[mask]"
   ]
  },
  {
   "cell_type": "code",
   "execution_count": 8,
   "metadata": {},
   "outputs": [
    {
     "data": {
      "image/png": "[encoded data removed]",
      "text/plain": [
       "<Figure size 432x288 with 1 Axes>"
      ]
     },
     "metadata": {
      "needs_background": "light"
     },
     "output_type": "display_data"
    }
   ],
   "source": [
    "df_views_clean.porcentagem_vista.hist(bins=50)\n",
    "plt.xlabel(\"porcentagem vista\")\n",
    "plt.ylabel(\"frequência\");"
   ]
  },
  {
   "cell_type": "markdown",
   "metadata": {},
   "source": [
    "# Janela no Timestamp"
   ]
  },
  {
   "cell_type": "markdown",
   "metadata": {},
   "source": [
    "### Exercício\n",
    "\n",
    "Definir uma função para filtrar o dataframe `df_views_clean` em uma determinada janela de tempo dada pela coluna `ultima_visualizacao`. A função deve ter os seguintes argumentos:\n",
    "\n",
    " - `df`: dataframe original\n",
    " - `t0`: data inicial\n",
    " - `days`: tamanho da janela em dias\n",
    " \n",
    "A função deve retornar um novo dataframe com as mesmas colunas que o dataframe original.\n",
    "\n",
    "Pode ser de utilidade a seguinte referência com manipulações de séries temporais no Pandas:\n",
    "\n",
    "- [Working with Time Series](https://jakevdp.github.io/PythonDataScienceHandbook/03.11-working-with-time-series.html)"
   ]
  },
  {
   "cell_type": "markdown",
   "metadata": {},
   "source": [
    "### Solução"
   ]
  },
  {
   "cell_type": "code",
   "execution_count": 9,
   "metadata": {},
   "outputs": [],
   "source": [
    "def time_window(df, t0, days):\n",
    "    \"\"\" df: dataframe original\n",
    "        t0: data inicial\n",
    "        days: tamanho da janela em dias\n",
    "        \n",
    "        return df_masked  # masked dataframe\n",
    "    \"\"\"\n",
    "    t = pd.to_datetime(t0)\n",
    "    delta = pd.to_timedelta(days, 'D')\n",
    "    mask = df.ultima_visualizacao.between(t, t+delta)\n",
    "    df_masked = df[mask]\n",
    "    return df_masked  # masked dataframe"
   ]
  },
  {
   "cell_type": "markdown",
   "metadata": {},
   "source": [
    "### Verificação"
   ]
  },
  {
   "cell_type": "code",
   "execution_count": 10,
   "metadata": {},
   "outputs": [],
   "source": [
    "df_new = time_window(df_views_clean, \"2014-12-31\", 10)\n",
    "\n",
    "assert df_new.shape[0]==119878"
   ]
  },
  {
   "cell_type": "markdown",
   "metadata": {},
   "source": [
    "# Vídeos mais populares"
   ]
  },
  {
   "cell_type": "code",
   "execution_count": 11,
   "metadata": {},
   "outputs": [],
   "source": [
    "df_videos = pd.read_csv(\n",
    "    r\"data\\videos.csv\",\n",
    "    index_col=\"video_id\"\n",
    ")\n",
    "\n",
    "def ranking(df, t0, days):\n",
    "    df_masked = time_window(df, t0, days)\n",
    "    grouped = df_masked.groupby(\"video_id\")\n",
    "    s = grouped[\"porcentagem_vista\"].sum()\n",
    "    top_ten = s[:10].index\n",
    "    return df_videos[\"titulo\"][top_ten]"
   ]
  },
  {
   "cell_type": "code",
   "execution_count": 12,
   "metadata": {},
   "outputs": [
    {
     "data": {
      "text/plain": [
       "video_id\n",
       "002f93c111fb2ecc    Veja entrevista com Willem Dafoe e Mikhail Bar...\n",
       "003d569418536241                      Magnolia Bakery e Guaraná Jesus\n",
       "0046fbce7fefdb70                  UFC 160 - Junior Cigano x Mark Hunt\n",
       "00667f90161d7649             Atol Majuro e Atol Arno - Ilhas Marshall\n",
       "0068d27a61b700cf                                   Otavio - Sessão 01\n",
       "0099afcd1f8d03aa                                    Universo do Samba\n",
       "00a08371d9a4ea0b                                                Naldo\n",
       "00a5aced5f09aae0                                                Dunga\n",
       "00ad398d59812a73                Interior da França sobre quatro rodas\n",
       "00c367ba1a1e1091          UFC 99 - Mirko Filipovic X Mostapha Al-Turk\n",
       "Name: titulo, dtype: object"
      ]
     },
     "execution_count": 12,
     "metadata": {},
     "output_type": "execute_result"
    }
   ],
   "source": [
    "ranking(df_views_clean, \"2014-12-31\", 2)"
   ]
  },
  {
   "cell_type": "code",
   "execution_count": 13,
   "metadata": {},
   "outputs": [
    {
     "data": {
      "text/plain": [
       "'Veja entrevista com Willem Dafoe e Mikhail Baryshnikov'"
      ]
     },
     "execution_count": 13,
     "metadata": {},
     "output_type": "execute_result"
    }
   ],
   "source": [
    "df_videos.loc[\"002f93c111fb2ecc\"][\"titulo\"]"
   ]
  },
  {
   "cell_type": "code",
   "execution_count": 14,
   "metadata": {},
   "outputs": [],
   "source": [
    "def pivoter(df, t0, days):\n",
    "    df_masked = time_window(df, t0, days)\n",
    "    df_pivot = df_masked.pivot(\n",
    "        index=\"usuario_id\",\n",
    "        columns=\"video_id\",\n",
    "        values=\"porcentagem_vista\"\n",
    "    )\n",
    "    return df_pivot\n",
    "\n",
    "\n",
    "def recommender(df_pivot, video_id):\n",
    "    s = df_pivot.corrwith(df_pivot[video_id]).sort_values()\n",
    "    top_ten = s[:10].index\n",
    "    return df_videos[\"titulo\"][top_ten].tolist()"
   ]
  },
  {
   "cell_type": "code",
   "execution_count": 15,
   "metadata": {},
   "outputs": [],
   "source": [
    "df_pivot = pivoter(df_views_clean, \"2014-12-31\", 10)"
   ]
  },
  {
   "cell_type": "code",
   "execution_count": 16,
   "metadata": {},
   "outputs": [
    {
     "name": "stderr",
     "output_type": "stream",
     "text": [
      "c:\\users\\jcrui\\documents\\work\\envs\\ml\\lib\\site-packages\\numpy\\lib\\function_base.py:2526: RuntimeWarning: Degrees of freedom <= 0 for slice\n",
      "  c = cov(x, y, rowvar)\n",
      "c:\\users\\jcrui\\documents\\work\\envs\\ml\\lib\\site-packages\\numpy\\lib\\function_base.py:2455: RuntimeWarning: divide by zero encountered in true_divide\n",
      "  c *= np.true_divide(1, fact)\n"
     ]
    },
    {
     "data": {
      "text/plain": [
       "['Veja entrevista com Willem Dafoe e Mikhail Baryshnikov',\n",
       " 'Atura o Parabéns',\n",
       " 'Frejat',\n",
       " 'Magnolia Bakery e Guaraná Jesus',\n",
       " 'UFC 48 - Frank Mir X Tim Sylvia',\n",
       " 'Ulisses está desconfiado',\n",
       " 'UFC 58 - Rich Franklin X David Loiseau',\n",
       " 'UFC 160 - Junior Cigano x Mark Hunt',\n",
       " 'Atol Majuro e Atol Arno - Ilhas Marshall',\n",
       " 'Otavio - Sessão 01']"
      ]
     },
     "execution_count": 16,
     "metadata": {},
     "output_type": "execute_result"
    }
   ],
   "source": [
    "recommender(df_pivot, \"002f93c111fb2ecc\")"
   ]
  }
 ],
 "metadata": {
  "kernelspec": {
   "display_name": "Python 3",
   "language": "python",
   "name": "python3"
  },
  "language_info": {
   "codemirror_mode": {
    "name": "ipython",
    "version": 3
   },
   "file_extension": ".py",
   "mimetype": "text/x-python",
   "name": "python",
   "nbconvert_exporter": "python",
   "pygments_lexer": "ipython3",
   "version": "3.7.4"
  }
 },
 "nbformat": 4,
 "nbformat_minor": 4
}
